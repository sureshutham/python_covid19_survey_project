#Connect to PostgreSQL server
import pandas as pd
from sqlalchemy import create_engine
import os

os.environ["PG_URL"] = (
        "postgresql+psycopg2://neondb_owner:npg_2wdZpRaF0LmG@"
        "ep-patient-dawn-advbhv1g-pooler.c-2.us-east-1.aws.neon.tech/"
        "neondb?sslmode=require"
    )

engine = create_engine(os.environ["PG_URL"], pool_pre_ping=True)

#Connect to dataset and view the table definition
df = pd.read_sql("SELECT * FROM covid_case_surveillance_simple", engine)
display(df.head())

#Preview sample data
df.info()

#Convert the case_month to Date data types
df['case_month'] = pd.to_datetime(df['case_month'])
df.info()

#Check duplicates
print(df.isnull().sum())

#Replace NULL with 1900-01 for Case Earliest Date
df['cdc_case_earliest_dt'] = df['cdc_case_earliest_dt'].fillna('1900-01-01')
df.head()

#Filter the dataset to show rows where age_group is 'NA' or 'Missing'
df_missing_age_group = df[df['age_group'].isin(['NA', 'Missing'])]

#Display the first 10 rows of the filtered DataFrame
display(df_missing_age_group.head(20))

# Create a new column by combining race and ethnicity
df['race_ethnicity'] = df['race'] + ', ' + df['ethnicity']

# Display the first few rows to verify the new column
display(df.head())


# **Data Visualization**

